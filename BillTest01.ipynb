{
 "cells": [
  {
   "cell_type": "code",
   "execution_count": 18,
   "metadata": {},
   "outputs": [
    {
     "name": "stdout",
     "output_type": "stream",
     "text": [
      "url:https://mydomain/todo?tempId=-1&title=lunch\n",
      "tempId=-1在第22~31位\n",
      "url2=https://mydomain/todo?id=101&title=lunch\n"
     ]
    }
   ],
   "source": [
    "#1-1\n",
    "url=\"https://mydomain/todo?tempId=-1&title=lunch\"\n",
    "print(\"url:\"+url)\n",
    "for i in range(0,30):\n",
    "    #print(url[i:9+i])\n",
    "    x=url[i:9+i]\n",
    "    if x==\"tempId=-1\":\n",
    "        print(\"tempId=-1在第\"+str(i)+\"~\"+str(9+i)+\"位\")\n",
    "        break\n",
    "url2=url[0:i]+\"id=101\"+url[(9+i):]\n",
    "print(\"url2=\"+url2)"
   ]
  },
  {
   "cell_type": "code",
   "execution_count": 45,
   "metadata": {},
   "outputs": [
    {
     "name": "stdout",
     "output_type": "stream",
     "text": [
      "url:https://mydomain/todo?tempId=-1&title=lunch\n",
      "url2=https://mydomain/todo?id=101&title=lunch\n"
     ]
    }
   ],
   "source": [
    "#1-2 re.sub\n",
    "import re\n",
    "url=\"https://mydomain/todo?tempId=-1&title=lunch\"\n",
    "number=\"tempId=-1\"\n",
    "print(\"url:\"+url)\n",
    "print(\"url2=\"+re.sub(number, \"id=101\", url))"
   ]
  },
  {
   "cell_type": "code",
   "execution_count": 36,
   "metadata": {},
   "outputs": [
    {
     "name": "stdout",
     "output_type": "stream",
     "text": [
      "url:https://www.google.com/search?client=firefox-b-1-d&q=curricular\n",
      "client=在第30~37位\n",
      "client:firefox-b-1-d\n",
      "q=在第51~53位\n",
      "q=curricular\n"
     ]
    }
   ],
   "source": [
    "#2-1\n",
    "import re\n",
    "url=\"https://www.google.com/search?client=firefox-b-1-d&q=curricular\"\n",
    "print(\"url:\"+url)\n",
    "for i in range(0,70):\n",
    "    #print(url[i:9+i])\n",
    "    x=url[i:7+i]\n",
    "    y=url[i:2+i]\n",
    "    if x==\"client=\":#7\n",
    "        print(\"client=在第\"+str(i)+\"~\"+str(7+i)+\"位\")\n",
    "        for j1 in range(0,20,1):\n",
    "            z1=url[7+i+j1:7+i+j1+1]\n",
    "            if z1==\"&\":\n",
    "                print(\"client:\"+url[7+i:7+i+j1])\n",
    "    if y==\"q=\":#2\n",
    "        print(\"q=在第\"+str(i)+\"~\"+str(2+i)+\"位\")\n",
    "        for j2 in range(0,20,1):\n",
    "            z2=url[2+i+j2:2+i+j2+1]\n",
    "            if z2==\"\":\n",
    "                print(\"q=\"+url[2+i:2+i+j2])\n",
    "                break"
   ]
  },
  {
   "cell_type": "code",
   "execution_count": 42,
   "metadata": {},
   "outputs": [
    {
     "name": "stdout",
     "output_type": "stream",
     "text": [
      "url:https://www.google.com/search?client=firefox-b-1-d&q=curricular\n",
      "firefox-b-1-d\n",
      "curricular\n"
     ]
    }
   ],
   "source": [
    "#2-2\n",
    "import re\n",
    "url=\"https://www.google.com/search?client=firefox-b-1-d&q=curricular\"\n",
    "number1=\"client=\"\n",
    "number2=\"q=\"\n",
    "print(\"url:\"+url)\n",
    "x1=re.search(number1,url).start()\n",
    "y1=re.search(number1,url).end()\n",
    "x2=re.search(number2,url).start()\n",
    "y2=re.search(number2,url).end()\n",
    "print(url[\"client:\"+y1:x2-1])\n",
    "print(url[\"q=\"+y2:])"
   ]
  },
  {
   "cell_type": "code",
   "execution_count": 61,
   "metadata": {},
   "outputs": [],
   "source": [
    "#3-1"
   ]
  },
  {
   "cell_type": "code",
   "execution_count": 49,
   "metadata": {},
   "outputs": [
    {
     "name": "stdout",
     "output_type": "stream",
     "text": [
      "<html>\n",
      "<head>\n",
      "<title>Hellow World</title>\n",
      "</head>\n",
      "<body>\n",
      "  Hi John, <br><br>\n",
      "  Please come to library at Tomorrow 11 AM.<br><br>\n",
      "  From Alex\n",
      "</body>\n",
      "</html>\n"
     ]
    }
   ],
   "source": [
    "#3-2\n",
    "import re\n",
    "url=\"<html>\\n<head>\\n<title>Hellow World</title>\\n</head>\\n<body>\\n  Hi {invitee}, <br><br>\\n  Please come to {event} at {time}.<br><br>\\n  From {name}\\n</body>\\n</html>\"\n",
    "url=re.sub(\"{invitee}\", \"John\", url)\n",
    "url=re.sub(\"{event}\", \"library\", url)\n",
    "url=re.sub(\"{time}\", \"Tomorrow 11 AM\", url)\n",
    "url=re.sub(\"{name}\", \"Alex\", url)\n",
    "print(url)"
   ]
  }
 ],
 "metadata": {
  "kernelspec": {
   "display_name": "Python 3",
   "language": "python",
   "name": "python3"
  },
  "language_info": {
   "codemirror_mode": {
    "name": "ipython",
    "version": 3
   },
   "file_extension": ".py",
   "mimetype": "text/x-python",
   "name": "python",
   "nbconvert_exporter": "python",
   "pygments_lexer": "ipython3",
   "version": "3.5.5"
  }
 },
 "nbformat": 4,
 "nbformat_minor": 2
}
